{
 "cells": [
  {
   "cell_type": "code",
   "execution_count": 1,
   "metadata": {},
   "outputs": [
    {
     "name": "stdout",
     "output_type": "stream",
     "text": [
      "Your browser has been opened to visit:\n",
      "\n",
      "    https://accounts.google.com/o/oauth2/auth?client_id=990722876728-5qpbehr19tge2t6d9hibhlohqd80vtnk.apps.googleusercontent.com&redirect_uri=http%3A%2F%2Flocalhost%3A8080%2F&scope=https%3A%2F%2Fwww.googleapis.com%2Fauth%2Fdrive&access_type=offline&response_type=code\n",
      "\n",
      "Authentication successful.\n"
     ]
    }
   ],
   "source": [
    "from pydrive.auth import GoogleAuth \n",
    "\n",
    "# Authentification\n",
    "gauth = GoogleAuth()\n",
    "gauth.LocalWebserverAuth()"
   ]
  },
  {
   "cell_type": "code",
   "execution_count": 2,
   "metadata": {},
   "outputs": [
    {
     "name": "stdout",
     "output_type": "stream",
     "text": [
      "Enter the path of to the folder that you want to upload./Users/nguyenthieukhang/ggdrive_automatic_upload/folder1\n",
      "Enter your email address: tkhang211@gmail.com\n",
      "Enter the extension (.<extension>) which you want to upload (Enter NO if not specified)NO\n",
      "Uploading successful.\n"
     ]
    }
   ],
   "source": [
    "from time import gmtime, strftime\n",
    "import os\n",
    "import smtplib, ssl\n",
    "\n",
    "from pydrive.drive import GoogleDrive\n",
    "\n",
    "drive = GoogleDrive(gauth)\n",
    "\n",
    "path = input(\"Enter the path of to the folder that you want to upload.\")\n",
    "#Test directory: /Users/nguyenthieukhang/ggdrive_automatic_upload/folder1\n",
    "recieve = input(\"Enter your email address: \")\n",
    "\n",
    "extension = input(\"Enter the extension (.<extension>) which you want to upload (Enter NO if not specified)\")\n",
    "\n",
    "email_message = 'Subject: Files Uploading Finished\\n'\n",
    "\n",
    "for x in os.listdir(path):  \n",
    "    \n",
    "    if(extension != \"NO\" and not (x.endswith(extension))): continue\n",
    "        \n",
    "    file_name = strftime(\"%Y-%m-%d_%H:%M:%S_\", gmtime())+x\n",
    "    f = drive.CreateFile({'title': file_name}) \n",
    "    try:\n",
    "        f.SetContentFile(os.path.join(path, x)) \n",
    "        f.Upload() \n",
    "        email_message += (x + ' has been successsfully uploaded.\\n')\n",
    "    except: continue\n",
    "    f = None\n",
    "    \n",
    "email_message += '\\n' + 'vefhomework\\n'\n",
    "username = 'vefhomework@gmail.com'\n",
    "password = 'webcreateaccount?service'\n",
    "\n",
    "context = ssl.create_default_context()\n",
    "with smtplib.SMTP_SSL(\"smtp.gmail.com\", 465, context=context) as server:\n",
    "    server.login(username, password)\n",
    "    server.sendmail(username, recieve, email_message)\n",
    "\n",
    "print(\"Uploading successful.\")"
   ]
  },
  {
   "cell_type": "code",
   "execution_count": null,
   "metadata": {},
   "outputs": [],
   "source": [
    "import os\n",
    "print(os.getcwd())"
   ]
  }
 ],
 "metadata": {
  "kernelspec": {
   "display_name": "Python 3",
   "language": "python",
   "name": "python3"
  },
  "language_info": {
   "codemirror_mode": {
    "name": "ipython",
    "version": 3
   },
   "file_extension": ".py",
   "mimetype": "text/x-python",
   "name": "python",
   "nbconvert_exporter": "python",
   "pygments_lexer": "ipython3",
   "version": "3.7.4"
  }
 },
 "nbformat": 4,
 "nbformat_minor": 2
}
